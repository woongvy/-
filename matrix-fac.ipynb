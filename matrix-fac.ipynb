{
 "cells": [
  {
   "cell_type": "code",
   "execution_count": 1,
   "id": "a479e823",
   "metadata": {
    "_cell_guid": "b1076dfc-b9ad-4769-8c92-a6c4dae69d19",
    "_uuid": "8f2839f25d086af736a60e9eeb907d3b93b6e0e5",
    "execution": {
     "iopub.execute_input": "2023-12-24T09:04:13.029072Z",
     "iopub.status.busy": "2023-12-24T09:04:13.028645Z",
     "iopub.status.idle": "2023-12-24T09:04:16.282887Z",
     "shell.execute_reply": "2023-12-24T09:04:16.281881Z"
    },
    "papermill": {
     "duration": 3.265274,
     "end_time": "2023-12-24T09:04:16.285706",
     "exception": false,
     "start_time": "2023-12-24T09:04:13.020432",
     "status": "completed"
    },
    "tags": []
   },
   "outputs": [],
   "source": [
    "import cudf\n",
    "import numpy as np \n",
    "import pandas as pd \n",
    "\n",
    "# Input data files are available in the read-only \"../input/\" directory\n",
    "# For example, running this (by clicking run or pressing Shift+Enter) will list all files under the input directory\n",
    "\n",
    "import os\n",
    "import scipy\n",
    "from scipy import stats\n",
    "import seaborn as sns\n",
    "import matplotlib.pyplot as plt\n",
    "import cupy\n",
    "import glob\n",
    "import time"
   ]
  },
  {
   "cell_type": "code",
   "execution_count": 2,
   "id": "b27e777e",
   "metadata": {
    "execution": {
     "iopub.execute_input": "2023-12-24T09:04:16.299441Z",
     "iopub.status.busy": "2023-12-24T09:04:16.298990Z",
     "iopub.status.idle": "2023-12-24T09:04:42.174205Z",
     "shell.execute_reply": "2023-12-24T09:04:42.173297Z"
    },
    "papermill": {
     "duration": 25.884715,
     "end_time": "2023-12-24T09:04:42.176895",
     "exception": false,
     "start_time": "2023-12-24T09:04:16.292180",
     "status": "completed"
    },
    "tags": []
   },
   "outputs": [],
   "source": [
    "train_df = cudf.read_parquet('/kaggle/input/otto-full-optimized-memory-footprint/train.parquet')\n",
    "test_df = cudf.read_parquet('/kaggle/input/otto-full-optimized-memory-footprint/test.parquet')"
   ]
  },
  {
   "cell_type": "code",
   "execution_count": 3,
   "id": "7c02fda9",
   "metadata": {
    "execution": {
     "iopub.execute_input": "2023-12-24T09:04:42.189464Z",
     "iopub.status.busy": "2023-12-24T09:04:42.189143Z",
     "iopub.status.idle": "2023-12-24T09:04:44.144816Z",
     "shell.execute_reply": "2023-12-24T09:04:44.143933Z"
    },
    "papermill": {
     "duration": 1.964703,
     "end_time": "2023-12-24T09:04:44.147403",
     "exception": false,
     "start_time": "2023-12-24T09:04:42.182700",
     "status": "completed"
    },
    "tags": []
   },
   "outputs": [
    {
     "name": "stdout",
     "output_type": "stream",
     "text": [
      "CPU times: user 3 µs, sys: 1 µs, total: 4 µs\n",
      "Wall time: 7.39 µs\n"
     ]
    }
   ],
   "source": [
    "%time\n",
    "train_pairs = cudf.concat([train_df, test_df])[['session','aid']]\n",
    "\n",
    "del train_df, test_df\n",
    "\n",
    "train_pairs['aid_next'] = train_pairs.groupby('session').aid.shift(-1)\n",
    "train_pairs = train_pairs[['aid', 'aid_next']].dropna().reset_index(drop=True)"
   ]
  },
  {
   "cell_type": "code",
   "execution_count": 4,
   "id": "7be399ee",
   "metadata": {
    "execution": {
     "iopub.execute_input": "2023-12-24T09:04:44.160160Z",
     "iopub.status.busy": "2023-12-24T09:04:44.159810Z",
     "iopub.status.idle": "2023-12-24T09:04:44.197243Z",
     "shell.execute_reply": "2023-12-24T09:04:44.196257Z"
    },
    "papermill": {
     "duration": 0.046333,
     "end_time": "2023-12-24T09:04:44.199503",
     "exception": false,
     "start_time": "2023-12-24T09:04:44.153170",
     "status": "completed"
    },
    "tags": []
   },
   "outputs": [
    {
     "data": {
      "text/plain": [
       "1855602"
      ]
     },
     "execution_count": 4,
     "metadata": {},
     "output_type": "execute_result"
    }
   ],
   "source": [
    "cardinality_aids = max(train_pairs['aid'].max(), train_pairs['aid_next'].max())\n",
    "cardinality_aids"
   ]
  },
  {
   "cell_type": "code",
   "execution_count": 5,
   "id": "6376a59c",
   "metadata": {
    "execution": {
     "iopub.execute_input": "2023-12-24T09:04:44.213278Z",
     "iopub.status.busy": "2023-12-24T09:04:44.212942Z",
     "iopub.status.idle": "2023-12-24T09:06:23.423514Z",
     "shell.execute_reply": "2023-12-24T09:06:23.422198Z"
    },
    "papermill": {
     "duration": 99.22058,
     "end_time": "2023-12-24T09:06:23.426071",
     "exception": false,
     "start_time": "2023-12-24T09:04:44.205491",
     "status": "completed"
    },
    "tags": []
   },
   "outputs": [
    {
     "name": "stdout",
     "output_type": "stream",
     "text": [
      "Collecting merlin-dataloader==0.0.2\r\n",
      "  Downloading merlin-dataloader-0.0.2.tar.gz (44 kB)\r\n",
      "\u001b[2K     \u001b[90m━━━━━━━━━━━━━━━━━━━━━━━━━━━━━━━━━━━━━━━━\u001b[0m \u001b[32m44.1/44.1 kB\u001b[0m \u001b[31m3.1 MB/s\u001b[0m eta \u001b[36m0:00:00\u001b[0m\r\n",
      "\u001b[?25h  Installing build dependencies ... \u001b[?25l-\b \b\\\b \b|\b \b/\b \bdone\r\n",
      "\u001b[?25h  Getting requirements to build wheel ... \u001b[?25l-\b \bdone\r\n",
      "\u001b[?25h  Preparing metadata (pyproject.toml) ... \u001b[?25l-\b \bdone\r\n",
      "\u001b[?25hCollecting merlin-core\r\n",
      "  Downloading merlin-core-0.7.0.tar.gz (108 kB)\r\n",
      "\u001b[2K     \u001b[90m━━━━━━━━━━━━━━━━━━━━━━━━━━━━━━━━━━━━━━━\u001b[0m \u001b[32m108.0/108.0 kB\u001b[0m \u001b[31m6.8 MB/s\u001b[0m eta \u001b[36m0:00:00\u001b[0m\r\n",
      "\u001b[?25h  Installing build dependencies ... \u001b[?25l-\b \b\\\b \b|\b \bdone\r\n",
      "\u001b[?25h  Getting requirements to build wheel ... \u001b[?25l-\b \bdone\r\n",
      "\u001b[?25h  Preparing metadata (pyproject.toml) ... \u001b[?25l-\b \bdone\r\n",
      "\u001b[?25hRequirement already satisfied: tqdm>=4.0 in /opt/conda/lib/python3.7/site-packages (from merlin-core->merlin-dataloader==0.0.2) (4.64.0)\r\n",
      "Requirement already satisfied: tensorflow-metadata>=1.2.0 in /opt/conda/lib/python3.7/site-packages (from merlin-core->merlin-dataloader==0.0.2) (1.9.0)\r\n",
      "  Downloading merlin-core-0.6.0.tar.gz (108 kB)\r\n",
      "\u001b[2K     \u001b[90m━━━━━━━━━━━━━━━━━━━━━━━━━━━━━━━━━━━━━━\u001b[0m \u001b[32m108.0/108.0 kB\u001b[0m \u001b[31m11.6 MB/s\u001b[0m eta \u001b[36m0:00:00\u001b[0m\r\n",
      "\u001b[?25h  Installing build dependencies ... \u001b[?25l-\b \b\\\b \b|\b \bdone\r\n",
      "\u001b[?25h  Getting requirements to build wheel ... \u001b[?25l-\b \bdone\r\n",
      "\u001b[?25h  Preparing metadata (pyproject.toml) ... \u001b[?25l-\b \bdone\r\n",
      "\u001b[?25h  Downloading merlin-core-0.5.0.tar.gz (104 kB)\r\n",
      "\u001b[2K     \u001b[90m━━━━━━━━━━━━━━━━━━━━━━━━━━━━━━━━━━━━━━━\u001b[0m \u001b[32m104.7/104.7 kB\u001b[0m \u001b[31m9.4 MB/s\u001b[0m eta \u001b[36m0:00:00\u001b[0m\r\n",
      "\u001b[?25h  Installing build dependencies ... \u001b[?25l-\b \b\\\b \b|\b \bdone\r\n",
      "\u001b[?25h  Getting requirements to build wheel ... \u001b[?25l-\b \bdone\r\n",
      "\u001b[?25h  Preparing metadata (pyproject.toml) ... \u001b[?25l-\b \bdone\r\n",
      "\u001b[?25hRequirement already satisfied: dask>=2021.11.2 in /opt/conda/lib/python3.7/site-packages (from merlin-core->merlin-dataloader==0.0.2) (2022.2.0)\r\n",
      "Requirement already satisfied: numba>=0.54 in /opt/conda/lib/python3.7/site-packages (from merlin-core->merlin-dataloader==0.0.2) (0.55.2)\r\n",
      "Requirement already satisfied: distributed>=2021.11.2 in /opt/conda/lib/python3.7/site-packages (from merlin-core->merlin-dataloader==0.0.2) (2022.2.0)\r\n",
      "Requirement already satisfied: protobuf>=3.0.0 in /opt/conda/lib/python3.7/site-packages (from merlin-core->merlin-dataloader==0.0.2) (3.19.4)\r\n",
      "Requirement already satisfied: pyarrow>=5.0.0 in /opt/conda/lib/python3.7/site-packages (from merlin-core->merlin-dataloader==0.0.2) (5.0.0)\r\n",
      "Requirement already satisfied: packaging in /opt/conda/lib/python3.7/site-packages (from merlin-core->merlin-dataloader==0.0.2) (21.3)\r\n",
      "Requirement already satisfied: pandas<1.4.0dev0,>=1.2.0 in /opt/conda/lib/python3.7/site-packages (from merlin-core->merlin-dataloader==0.0.2) (1.3.5)\r\n",
      "Collecting betterproto<2.0.0\r\n",
      "  Downloading betterproto-1.2.5.tar.gz (26 kB)\r\n",
      "  Installing build dependencies ... \u001b[?25l-\b \b\\\b \b|\b \bdone\r\n",
      "\u001b[?25h  Getting requirements to build wheel ... \u001b[?25l-\b \bdone\r\n",
      "\u001b[?25h  Preparing metadata (pyproject.toml) ... \u001b[?25l-\b \bdone\r\n",
      "\u001b[?25hCollecting stringcase\r\n",
      "  Downloading stringcase-1.2.0.tar.gz (3.0 kB)\r\n",
      "  Preparing metadata (setup.py) ... \u001b[?25l-\b \bdone\r\n",
      "\u001b[?25hCollecting grpclib\r\n",
      "  Downloading grpclib-0.4.6.tar.gz (61 kB)\r\n",
      "\u001b[2K     \u001b[90m━━━━━━━━━━━━━━━━━━━━━━━━━━━━━━━━━━━━━━━━\u001b[0m \u001b[32m61.2/61.2 kB\u001b[0m \u001b[31m6.3 MB/s\u001b[0m eta \u001b[36m0:00:00\u001b[0m\r\n",
      "\u001b[?25h  Installing build dependencies ... \u001b[?25l-\b \b\\\b \b|\b \bdone\r\n",
      "\u001b[?25h  Getting requirements to build wheel ... \u001b[?25l-\b \bdone\r\n",
      "\u001b[?25h  Preparing metadata (pyproject.toml) ... \u001b[?25l-\b \bdone\r\n",
      "\u001b[?25hRequirement already satisfied: cloudpickle>=1.1.1 in /opt/conda/lib/python3.7/site-packages (from dask>=2021.11.2->merlin-core->merlin-dataloader==0.0.2) (2.1.0)\r\n",
      "Requirement already satisfied: fsspec>=0.6.0 in /opt/conda/lib/python3.7/site-packages (from dask>=2021.11.2->merlin-core->merlin-dataloader==0.0.2) (2022.8.2)\r\n",
      "Requirement already satisfied: pyyaml>=5.3.1 in /opt/conda/lib/python3.7/site-packages (from dask>=2021.11.2->merlin-core->merlin-dataloader==0.0.2) (6.0)\r\n",
      "Requirement already satisfied: toolz>=0.8.2 in /opt/conda/lib/python3.7/site-packages (from dask>=2021.11.2->merlin-core->merlin-dataloader==0.0.2) (0.11.2)\r\n",
      "Requirement already satisfied: partd>=0.3.10 in /opt/conda/lib/python3.7/site-packages (from dask>=2021.11.2->merlin-core->merlin-dataloader==0.0.2) (1.3.0)\r\n",
      "Requirement already satisfied: psutil>=5.0 in /opt/conda/lib/python3.7/site-packages (from distributed>=2021.11.2->merlin-core->merlin-dataloader==0.0.2) (5.9.1)\r\n",
      "Requirement already satisfied: jinja2 in /opt/conda/lib/python3.7/site-packages (from distributed>=2021.11.2->merlin-core->merlin-dataloader==0.0.2) (3.1.2)\r\n",
      "Requirement already satisfied: sortedcontainers!=2.0.0,!=2.0.1 in /opt/conda/lib/python3.7/site-packages (from distributed>=2021.11.2->merlin-core->merlin-dataloader==0.0.2) (2.4.0)\r\n",
      "Requirement already satisfied: setuptools in /opt/conda/lib/python3.7/site-packages (from distributed>=2021.11.2->merlin-core->merlin-dataloader==0.0.2) (59.8.0)\r\n",
      "Requirement already satisfied: msgpack>=0.6.0 in /opt/conda/lib/python3.7/site-packages (from distributed>=2021.11.2->merlin-core->merlin-dataloader==0.0.2) (1.0.4)\r\n",
      "Requirement already satisfied: click>=6.6 in /opt/conda/lib/python3.7/site-packages (from distributed>=2021.11.2->merlin-core->merlin-dataloader==0.0.2) (8.0.4)\r\n",
      "Requirement already satisfied: zict>=0.1.3 in /opt/conda/lib/python3.7/site-packages (from distributed>=2021.11.2->merlin-core->merlin-dataloader==0.0.2) (2.2.0)\r\n",
      "Requirement already satisfied: tblib>=1.6.0 in /opt/conda/lib/python3.7/site-packages (from distributed>=2021.11.2->merlin-core->merlin-dataloader==0.0.2) (1.7.0)\r\n",
      "Requirement already satisfied: tornado>=5 in /opt/conda/lib/python3.7/site-packages (from distributed>=2021.11.2->merlin-core->merlin-dataloader==0.0.2) (6.1)\r\n",
      "Requirement already satisfied: llvmlite<0.39,>=0.38.0rc1 in /opt/conda/lib/python3.7/site-packages (from numba>=0.54->merlin-core->merlin-dataloader==0.0.2) (0.38.1)\r\n",
      "Requirement already satisfied: numpy<1.23,>=1.18 in /opt/conda/lib/python3.7/site-packages (from numba>=0.54->merlin-core->merlin-dataloader==0.0.2) (1.21.6)\r\n",
      "Requirement already satisfied: pyparsing!=3.0.5,>=2.0.2 in /opt/conda/lib/python3.7/site-packages (from packaging->merlin-core->merlin-dataloader==0.0.2) (3.0.9)\r\n",
      "Requirement already satisfied: python-dateutil>=2.7.3 in /opt/conda/lib/python3.7/site-packages (from pandas<1.4.0dev0,>=1.2.0->merlin-core->merlin-dataloader==0.0.2) (2.8.2)\r\n",
      "Requirement already satisfied: pytz>=2017.3 in /opt/conda/lib/python3.7/site-packages (from pandas<1.4.0dev0,>=1.2.0->merlin-core->merlin-dataloader==0.0.2) (2022.1)\r\n",
      "Requirement already satisfied: absl-py<2.0.0,>=0.9 in /opt/conda/lib/python3.7/site-packages (from tensorflow-metadata>=1.2.0->merlin-core->merlin-dataloader==0.0.2) (0.15.0)\r\n",
      "Requirement already satisfied: googleapis-common-protos<2,>=1.52.0 in /opt/conda/lib/python3.7/site-packages (from tensorflow-metadata>=1.2.0->merlin-core->merlin-dataloader==0.0.2) (1.56.3)\r\n",
      "Requirement already satisfied: six in /opt/conda/lib/python3.7/site-packages (from absl-py<2.0.0,>=0.9->tensorflow-metadata>=1.2.0->merlin-core->merlin-dataloader==0.0.2) (1.15.0)\r\n",
      "Requirement already satisfied: importlib-metadata in /opt/conda/lib/python3.7/site-packages (from click>=6.6->distributed>=2021.11.2->merlin-core->merlin-dataloader==0.0.2) (4.13.0)\r\n",
      "Requirement already satisfied: locket in /opt/conda/lib/python3.7/site-packages (from partd>=0.3.10->dask>=2021.11.2->merlin-core->merlin-dataloader==0.0.2) (1.0.0)\r\n",
      "Requirement already satisfied: heapdict in /opt/conda/lib/python3.7/site-packages (from zict>=0.1.3->distributed>=2021.11.2->merlin-core->merlin-dataloader==0.0.2) (1.0.1)\r\n",
      "Collecting h2<5,>=3.1.0\r\n",
      "  Downloading h2-4.1.0-py3-none-any.whl (57 kB)\r\n",
      "\u001b[2K     \u001b[90m━━━━━━━━━━━━━━━━━━━━━━━━━━━━━━━━━━━━━━━━\u001b[0m \u001b[32m57.5/57.5 kB\u001b[0m \u001b[31m6.0 MB/s\u001b[0m eta \u001b[36m0:00:00\u001b[0m\r\n",
      "\u001b[?25hRequirement already satisfied: multidict in /opt/conda/lib/python3.7/site-packages (from grpclib->betterproto<2.0.0->merlin-core->merlin-dataloader==0.0.2) (6.0.2)\r\n",
      "Requirement already satisfied: MarkupSafe>=2.0 in /opt/conda/lib/python3.7/site-packages (from jinja2->distributed>=2021.11.2->merlin-core->merlin-dataloader==0.0.2) (2.1.1)\r\n",
      "Collecting hpack<5,>=4.0\r\n",
      "  Downloading hpack-4.0.0-py3-none-any.whl (32 kB)\r\n",
      "Collecting hyperframe<7,>=6.0\r\n",
      "  Downloading hyperframe-6.0.1-py3-none-any.whl (12 kB)\r\n",
      "Requirement already satisfied: zipp>=0.5 in /opt/conda/lib/python3.7/site-packages (from importlib-metadata->click>=6.6->distributed>=2021.11.2->merlin-core->merlin-dataloader==0.0.2) (3.8.0)\r\n",
      "Requirement already satisfied: typing-extensions>=3.6.4 in /opt/conda/lib/python3.7/site-packages (from importlib-metadata->click>=6.6->distributed>=2021.11.2->merlin-core->merlin-dataloader==0.0.2) (4.1.1)\r\n",
      "Building wheels for collected packages: merlin-dataloader, merlin-core, betterproto, grpclib, stringcase\r\n",
      "  Building wheel for merlin-dataloader (pyproject.toml) ... \u001b[?25l-\b \bdone\r\n",
      "\u001b[?25h  Created wheel for merlin-dataloader: filename=merlin_dataloader-0.0.2-py3-none-any.whl size=29189 sha256=6c98652bb3caceb1c3687aa6a34e74900f7e5d1f205c048631919ac3c261ff69\r\n",
      "  Stored in directory: /root/.cache/pip/wheels/30/f3/00/80ac2c82293a7443be28f1bcf682cddfd7fdbcd6e105b3a3ab\r\n",
      "  Building wheel for merlin-core (pyproject.toml) ... \u001b[?25l-\b \bdone\r\n",
      "\u001b[?25h  Created wheel for merlin-core: filename=merlin_core-0.5.0-py3-none-any.whl size=109349 sha256=4458c6a8681b58ec68c483603f10302ebcc0d9ce586d6092e47ad1c734adf82c\r\n",
      "  Stored in directory: /root/.cache/pip/wheels/3d/19/62/598b031339ba3b38a0255bb275c8f8ee2a4917407416970837\r\n",
      "  Building wheel for betterproto (pyproject.toml) ... \u001b[?25l-\b \bdone\r\n",
      "\u001b[?25h  Created wheel for betterproto: filename=betterproto-1.2.5-py3-none-any.whl size=21998 sha256=36c8caa31eed3d0d6560111e2e7ba145d329c9c8e20a7dc0da4fe3d8643d2192\r\n",
      "  Stored in directory: /root/.cache/pip/wheels/d5/d7/46/97b7ec73d54fb8fc70775837af159e34b4965eda3481c7e659\r\n",
      "  Building wheel for grpclib (pyproject.toml) ... \u001b[?25l-\b \bdone\r\n",
      "\u001b[?25h  Created wheel for grpclib: filename=grpclib-0.4.6-py3-none-any.whl size=76138 sha256=e059ee7146755cd333b24633279da94f916884d24c56ece63f458e9d75a06a0b\r\n",
      "  Stored in directory: /root/.cache/pip/wheels/93/4d/0e/1b4a2a433ae28b0ff91c3bb189e570a7ae72eea45dcc993b43\r\n",
      "  Building wheel for stringcase (setup.py) ... \u001b[?25l-\b \b\\\b \bdone\r\n",
      "\u001b[?25h  Created wheel for stringcase: filename=stringcase-1.2.0-py3-none-any.whl size=3587 sha256=bd8c6f32cd0dc8e39feb42d72c00cba4f876c430c626166b07aa035a325e3073\r\n",
      "  Stored in directory: /root/.cache/pip/wheels/86/ab/a3/a8fa7e0a07e80f547e03468c03827f8257f7339327986faed1\r\n",
      "Successfully built merlin-dataloader merlin-core betterproto grpclib stringcase\r\n",
      "Installing collected packages: stringcase, hyperframe, hpack, h2, grpclib, betterproto, merlin-core, merlin-dataloader\r\n",
      "Successfully installed betterproto-1.2.5 grpclib-0.4.6 h2-4.1.0 hpack-4.0.0 hyperframe-6.0.1 merlin-core-0.5.0 merlin-dataloader-0.0.2 stringcase-1.2.0\r\n",
      "\u001b[33mWARNING: Running pip as the 'root' user can result in broken permissions and conflicting behaviour with the system package manager. It is recommended to use a virtual environment instead: https://pip.pypa.io/warnings/venv\u001b[0m\u001b[33m\r\n",
      "\u001b[0m"
     ]
    }
   ],
   "source": [
    "!pip install merlin-dataloader==0.0.2"
   ]
  },
  {
   "cell_type": "code",
   "execution_count": 6,
   "id": "6097113a",
   "metadata": {
    "execution": {
     "iopub.execute_input": "2023-12-24T09:06:23.451859Z",
     "iopub.status.busy": "2023-12-24T09:06:23.450929Z",
     "iopub.status.idle": "2023-12-24T09:06:37.112722Z",
     "shell.execute_reply": "2023-12-24T09:06:37.111617Z"
    },
    "jupyter": {
     "source_hidden": true
    },
    "papermill": {
     "duration": 13.677716,
     "end_time": "2023-12-24T09:06:37.115522",
     "exception": false,
     "start_time": "2023-12-24T09:06:23.437806",
     "status": "completed"
    },
    "tags": []
   },
   "outputs": [],
   "source": [
    "from merlin.loader.torch import Loader \n",
    "\n",
    "train_pairs[:-10_000_000].to_pandas().to_parquet('train_pairs.parquet')\n",
    "train_pairs[-10_000_000:].to_pandas().to_parquet('valid_pairs.parquet')"
   ]
  },
  {
   "cell_type": "code",
   "execution_count": 7,
   "id": "f3636682",
   "metadata": {
    "execution": {
     "iopub.execute_input": "2023-12-24T09:06:37.140318Z",
     "iopub.status.busy": "2023-12-24T09:06:37.139956Z",
     "iopub.status.idle": "2023-12-24T09:06:38.068944Z",
     "shell.execute_reply": "2023-12-24T09:06:38.067791Z"
    },
    "papermill": {
     "duration": 0.944222,
     "end_time": "2023-12-24T09:06:38.071650",
     "exception": false,
     "start_time": "2023-12-24T09:06:37.127428",
     "status": "completed"
    },
    "tags": []
   },
   "outputs": [],
   "source": [
    "from merlin.loader.torch import Loader \n",
    "from merlin.io import Dataset\n",
    "\n",
    "train_ds = Dataset('train_pairs.parquet')\n",
    "train_dl_merlin = Loader(train_ds, 65536, True)"
   ]
  },
  {
   "cell_type": "code",
   "execution_count": 8,
   "id": "a2ac698f",
   "metadata": {
    "execution": {
     "iopub.execute_input": "2023-12-24T09:06:38.164193Z",
     "iopub.status.busy": "2023-12-24T09:06:38.162837Z",
     "iopub.status.idle": "2023-12-24T09:06:41.810167Z",
     "shell.execute_reply": "2023-12-24T09:06:41.809059Z"
    },
    "papermill": {
     "duration": 3.696774,
     "end_time": "2023-12-24T09:06:41.812723",
     "exception": false,
     "start_time": "2023-12-24T09:06:38.115949",
     "status": "completed"
    },
    "tags": []
   },
   "outputs": [
    {
     "name": "stdout",
     "output_type": "stream",
     "text": [
      "CPU times: user 4 µs, sys: 1 µs, total: 5 µs\n",
      "Wall time: 9.78 µs\n"
     ]
    }
   ],
   "source": [
    "%time\n",
    "\n",
    "for batch in train_dl_merlin:\n",
    "    aid1, aid2 = batch[0], batch[1]"
   ]
  },
  {
   "cell_type": "markdown",
   "id": "a058aeac",
   "metadata": {
    "papermill": {
     "duration": 0.011481,
     "end_time": "2023-12-24T09:06:41.836582",
     "exception": false,
     "start_time": "2023-12-24T09:06:41.825101",
     "status": "completed"
    },
    "tags": []
   },
   "source": [
    "# Matrix Factorization\n",
    "\n",
    "**referencing the implementations of https://www.kaggle.com/code/cpmpml/matrix-factorization-with-gpu**"
   ]
  },
  {
   "cell_type": "code",
   "execution_count": 9,
   "id": "9eb07aa9",
   "metadata": {
    "execution": {
     "iopub.execute_input": "2023-12-24T09:06:41.861821Z",
     "iopub.status.busy": "2023-12-24T09:06:41.861444Z",
     "iopub.status.idle": "2023-12-24T09:06:42.006043Z",
     "shell.execute_reply": "2023-12-24T09:06:42.005164Z"
    },
    "papermill": {
     "duration": 0.160258,
     "end_time": "2023-12-24T09:06:42.008465",
     "exception": false,
     "start_time": "2023-12-24T09:06:41.848207",
     "status": "completed"
    },
    "tags": []
   },
   "outputs": [],
   "source": [
    "import torch\n",
    "from torch import nn\n",
    "\n",
    "class MatrixFactorization(nn.Module):\n",
    "    def __init__(self, n_aids, n_factors):\n",
    "        super().__init__()\n",
    "        self.aid_factors = nn.Embedding(n_aids, n_factors, sparse=True)\n",
    "        \n",
    "    def forward(self, aid1, aid2):\n",
    "        aid1 = self.aid_factors(aid1)\n",
    "        aid2 = self.aid_factors(aid2)\n",
    "        \n",
    "        return (aid1 * aid2).sum(dim=1)\n",
    "    \n",
    "class AverageMeter(object):\n",
    "    \"\"\"Computes and stores the average and current value\"\"\"\n",
    "    def __init__(self, name, fmt=':f'):\n",
    "        self.name = name\n",
    "        self.fmt = fmt\n",
    "        self.reset()\n",
    "\n",
    "    def reset(self):\n",
    "        self.val = 0\n",
    "        self.avg = 0\n",
    "        self.sum = 0\n",
    "        self.count = 0\n",
    "\n",
    "    def update(self, val, n=1):\n",
    "        self.val = val\n",
    "        self.sum += val * n\n",
    "        self.count += n\n",
    "        self.avg = self.sum / self.count\n",
    "\n",
    "    def __str__(self):\n",
    "        fmtstr = '{name} {val' + self.fmt + '} ({avg' + self.fmt + '})'\n",
    "        return fmtstr.format(**self.__dict__)\n",
    "\n",
    "valid_ds = Dataset('valid_pairs.parquet')\n",
    "valid_dl_merlin = Loader(valid_ds, 65536, True)"
   ]
  },
  {
   "cell_type": "code",
   "execution_count": 10,
   "id": "49488661",
   "metadata": {
    "execution": {
     "iopub.execute_input": "2023-12-24T09:06:42.034581Z",
     "iopub.status.busy": "2023-12-24T09:06:42.034217Z",
     "iopub.status.idle": "2023-12-24T09:06:43.123318Z",
     "shell.execute_reply": "2023-12-24T09:06:43.122476Z"
    },
    "papermill": {
     "duration": 1.104864,
     "end_time": "2023-12-24T09:06:43.125896",
     "exception": false,
     "start_time": "2023-12-24T09:06:42.021032",
     "status": "completed"
    },
    "tags": []
   },
   "outputs": [],
   "source": [
    "from torch.optim import SparseAdam, AdamW\n",
    "\n",
    "num_epochs=25\n",
    "lr=0.01\n",
    "\n",
    "model = MatrixFactorization(cardinality_aids+1, 64)\n",
    "optimizer = SparseAdam(model.parameters(), lr=lr)\n",
    "criterion = nn.BCEWithLogitsLoss()"
   ]
  },
  {
   "cell_type": "code",
   "execution_count": 11,
   "id": "ef028095",
   "metadata": {
    "execution": {
     "iopub.execute_input": "2023-12-24T09:06:43.151854Z",
     "iopub.status.busy": "2023-12-24T09:06:43.151509Z",
     "iopub.status.idle": "2023-12-24T09:20:50.882668Z",
     "shell.execute_reply": "2023-12-24T09:20:50.881639Z"
    },
    "papermill": {
     "duration": 847.760387,
     "end_time": "2023-12-24T09:20:50.898605",
     "exception": false,
     "start_time": "2023-12-24T09:06:43.138218",
     "status": "completed"
    },
    "tags": []
   },
   "outputs": [
    {
     "name": "stdout",
     "output_type": "stream",
     "text": [
      "01: * TrainLoss 0.624  * Accuracy 0.666\n",
      "02: * TrainLoss 0.605  * Accuracy 0.694\n",
      "03: * TrainLoss 0.598  * Accuracy 0.705\n",
      "04: * TrainLoss 0.594  * Accuracy 0.711\n",
      "05: * TrainLoss 0.592  * Accuracy 0.715\n",
      "06: * TrainLoss 0.590  * Accuracy 0.718\n",
      "07: * TrainLoss 0.589  * Accuracy 0.719\n",
      "08: * TrainLoss 0.588  * Accuracy 0.721\n",
      "09: * TrainLoss 0.588  * Accuracy 0.722\n",
      "10: * TrainLoss 0.587  * Accuracy 0.722\n",
      "11: * TrainLoss 0.586  * Accuracy 0.723\n",
      "12: * TrainLoss 0.585  * Accuracy 0.724\n",
      "13: * TrainLoss 0.585  * Accuracy 0.724\n",
      "14: * TrainLoss 0.585  * Accuracy 0.724\n",
      "15: * TrainLoss 0.585  * Accuracy 0.725\n",
      "16: * TrainLoss 0.584  * Accuracy 0.725\n",
      "17: * TrainLoss 0.584  * Accuracy 0.725\n",
      "18: * TrainLoss 0.585  * Accuracy 0.726\n",
      "19: * TrainLoss 0.586  * Accuracy 0.726\n",
      "20: * TrainLoss 0.585  * Accuracy 0.726\n",
      "21: * TrainLoss 0.585  * Accuracy 0.726\n",
      "22: * TrainLoss 0.584  * Accuracy 0.726\n",
      "23: * TrainLoss 0.585  * Accuracy 0.726\n",
      "24: * TrainLoss 0.584  * Accuracy 0.727\n",
      "25: * TrainLoss 0.583  * Accuracy 0.727\n",
      "CPU times: user 27min 1s, sys: 9.69 s, total: 27min 11s\n",
      "Wall time: 14min 7s\n"
     ]
    }
   ],
   "source": [
    "%%time\n",
    "model.to('cuda')\n",
    "for epoch in range(num_epochs):\n",
    "    for batch, _ in train_dl_merlin:\n",
    "        model.train()\n",
    "        losses = AverageMeter('Loss', ':.4e')\n",
    "            \n",
    "        aid1, aid2 = batch['aid'], batch['aid_next']\n",
    "        aid1 = aid1.to('cuda')\n",
    "        aid2 = aid2.to('cuda')\n",
    "        output_pos = model(aid1, aid2)\n",
    "        output_neg = model(aid1, aid2[torch.randperm(aid2.shape[0])])\n",
    "        \n",
    "        output = torch.cat([output_pos, output_neg])\n",
    "        targets = torch.cat([torch.ones_like(output_pos), torch.zeros_like(output_pos)])\n",
    "        loss = criterion(output, targets)\n",
    "        losses.update(loss.item())\n",
    "        \n",
    "        optimizer.zero_grad()\n",
    "        loss.backward()\n",
    "        optimizer.step()\n",
    "        \n",
    "    model.eval()\n",
    "    \n",
    "    with torch.no_grad():\n",
    "        accuracy = AverageMeter('accuracy')\n",
    "        for batch, _ in valid_dl_merlin:\n",
    "            aid1, aid2 = batch['aid'], batch['aid_next']\n",
    "            output_pos = model(aid1, aid2)\n",
    "            output_neg = model(aid1, aid2[torch.randperm(aid2.shape[0])])\n",
    "            accuracy_batch = torch.cat([output_pos.sigmoid() > 0.5, output_neg.sigmoid() < 0.5]).float().mean()\n",
    "            accuracy.update(accuracy_batch, aid1.shape[0])\n",
    "            \n",
    "    print(f'{epoch+1:02d}: * TrainLoss {losses.avg:.3f}  * Accuracy {accuracy.avg:.3f}')"
   ]
  },
  {
   "cell_type": "code",
   "execution_count": 12,
   "id": "e759bd07",
   "metadata": {
    "execution": {
     "iopub.execute_input": "2023-12-24T09:20:50.926949Z",
     "iopub.status.busy": "2023-12-24T09:20:50.926558Z",
     "iopub.status.idle": "2023-12-24T09:20:54.056519Z",
     "shell.execute_reply": "2023-12-24T09:20:54.055500Z"
    },
    "papermill": {
     "duration": 3.146753,
     "end_time": "2023-12-24T09:20:54.058701",
     "exception": false,
     "start_time": "2023-12-24T09:20:50.911948",
     "status": "completed"
    },
    "tags": []
   },
   "outputs": [
    {
     "name": "stdout",
     "output_type": "stream",
     "text": [
      "CPU times: user 3 µs, sys: 0 ns, total: 3 µs\n",
      "Wall time: 7.15 µs\n"
     ]
    },
    {
     "data": {
      "text/plain": [
       "NearestNeighbors()"
      ]
     },
     "execution_count": 12,
     "metadata": {},
     "output_type": "execute_result"
    }
   ],
   "source": [
    "#getting the embeddings\n",
    "%time\n",
    "embeddings = model.aid_factors.weight.detach().cpu().numpy()\n",
    "\n",
    "from cuml.neighbors import NearestNeighbors\n",
    "\n",
    "\n",
    "knn = NearestNeighbors(n_neighbors=21, metric='euclidean')\n",
    "knn.fit(embeddings)"
   ]
  },
  {
   "cell_type": "code",
   "execution_count": 13,
   "id": "ecb7b4cc",
   "metadata": {
    "execution": {
     "iopub.execute_input": "2023-12-24T09:20:54.087168Z",
     "iopub.status.busy": "2023-12-24T09:20:54.086834Z",
     "iopub.status.idle": "2023-12-24T09:22:33.805721Z",
     "shell.execute_reply": "2023-12-24T09:22:33.804830Z"
    },
    "papermill": {
     "duration": 99.735752,
     "end_time": "2023-12-24T09:22:33.808138",
     "exception": false,
     "start_time": "2023-12-24T09:20:54.072386",
     "status": "completed"
    },
    "tags": []
   },
   "outputs": [
    {
     "name": "stdout",
     "output_type": "stream",
     "text": [
      "CPU times: user 3 µs, sys: 0 ns, total: 3 µs\n",
      "Wall time: 7.15 µs\n"
     ]
    }
   ],
   "source": [
    "%time\n",
    "\n",
    "_, aid_nns = knn.kneighbors(embeddings)"
   ]
  },
  {
   "cell_type": "code",
   "execution_count": 14,
   "id": "a7d93eaa",
   "metadata": {
    "execution": {
     "iopub.execute_input": "2023-12-24T09:22:33.842074Z",
     "iopub.status.busy": "2023-12-24T09:22:33.841776Z",
     "iopub.status.idle": "2023-12-24T09:24:14.383154Z",
     "shell.execute_reply": "2023-12-24T09:24:14.382305Z"
    },
    "papermill": {
     "duration": 100.559885,
     "end_time": "2023-12-24T09:24:14.385856",
     "exception": false,
     "start_time": "2023-12-24T09:22:33.825971",
     "status": "completed"
    },
    "tags": []
   },
   "outputs": [],
   "source": [
    "from collections import defaultdict\n",
    "\n",
    "sample_sub = pd.read_csv('../input/otto-recommender-system//sample_submission.csv')\n",
    "test = cudf.read_parquet('../input/otto-full-optimized-memory-footprint/test.parquet')\n",
    "\n",
    "session_types = ['clicks', 'carts', 'orders']\n",
    "gr = test.reset_index(drop=True).to_pandas().groupby('session')\n",
    "test_session_AIDs = gr['aid'].apply(list)\n",
    "test_session_types = gr['type'].apply(list)\n",
    "\n",
    "labels = []\n",
    "\n",
    "type_weight_multipliers = {0: 1, 1: 6, 2: 3}\n",
    "for AIDs, types in zip(test_session_AIDs, test_session_types):\n",
    "    if len(AIDs) >= 20:\n",
    "        # if we have enough aids (over equals 20) we don't need to look for candidates! we just use the old logic\n",
    "        weights=np.logspace(0.1,1,len(AIDs),base=2, endpoint=True)-1\n",
    "        aids_temp=defaultdict(lambda: 0)\n",
    "        for aid,w,t in zip(AIDs,weights,types): \n",
    "            aids_temp[aid]+= w * type_weight_multipliers[t]\n",
    "            \n",
    "        sorted_aids=[k for k, v in sorted(aids_temp.items(), key=lambda item: -item[1])]\n",
    "        labels.append(sorted_aids[:20])\n",
    "    else:\n",
    "        # here we don't have 20 aids to output -- we will use approximate nearest neighbor search and our embeddings\n",
    "        # to generate candidates!\n",
    "        AIDs = list(dict.fromkeys(AIDs[::-1]))\n",
    "        \n",
    "        # let's grab the most recent aid\n",
    "        most_recent_aid = AIDs[0]\n",
    "        \n",
    "        # and look for some neighbors!\n",
    "        nns = list(aid_nns[most_recent_aid])\n",
    "                        \n",
    "        labels.append((AIDs+nns)[:20])"
   ]
  },
  {
   "cell_type": "code",
   "execution_count": 15,
   "id": "b221a0fb",
   "metadata": {
    "execution": {
     "iopub.execute_input": "2023-12-24T09:24:14.415249Z",
     "iopub.status.busy": "2023-12-24T09:24:14.414884Z",
     "iopub.status.idle": "2023-12-24T09:25:21.631590Z",
     "shell.execute_reply": "2023-12-24T09:25:21.630703Z"
    },
    "papermill": {
     "duration": 67.234049,
     "end_time": "2023-12-24T09:25:21.634281",
     "exception": false,
     "start_time": "2023-12-24T09:24:14.400232",
     "status": "completed"
    },
    "tags": []
   },
   "outputs": [],
   "source": [
    "labels_as_strings = [' '.join([str(l) for l in lls]) for lls in labels]\n",
    "\n",
    "predictions = pd.DataFrame(data={'session_type': test_session_AIDs.index, 'labels': labels_as_strings})\n",
    "\n",
    "prediction_dfs = []\n",
    "\n",
    "for st in session_types:\n",
    "    modified_predictions = predictions.copy()\n",
    "    modified_predictions.session_type = modified_predictions.session_type.astype('str') + f'_{st}'\n",
    "    prediction_dfs.append(modified_predictions)\n",
    "\n",
    "submission = pd.concat(prediction_dfs).reset_index(drop=True)\n",
    "submission.to_csv('submission.csv', index=False)"
   ]
  },
  {
   "cell_type": "code",
   "execution_count": null,
   "id": "93349511",
   "metadata": {
    "papermill": {
     "duration": 0.015247,
     "end_time": "2023-12-24T09:25:21.663686",
     "exception": false,
     "start_time": "2023-12-24T09:25:21.648439",
     "status": "completed"
    },
    "tags": []
   },
   "outputs": [],
   "source": []
  }
 ],
 "metadata": {
  "kaggle": {
   "accelerator": "gpu",
   "dataSources": [
    {
     "databundleVersionId": 4493939,
     "sourceId": 38760,
     "sourceType": "competition"
    },
    {
     "datasetId": 2601572,
     "sourceId": 4474043,
     "sourceType": "datasetVersion"
    }
   ],
   "dockerImageVersionId": 30302,
   "isGpuEnabled": true,
   "isInternetEnabled": true,
   "language": "python",
   "sourceType": "notebook"
  },
  "kernelspec": {
   "display_name": "Python 3",
   "language": "python",
   "name": "python3"
  },
  "language_info": {
   "codemirror_mode": {
    "name": "ipython",
    "version": 3
   },
   "file_extension": ".py",
   "mimetype": "text/x-python",
   "name": "python",
   "nbconvert_exporter": "python",
   "pygments_lexer": "ipython3",
   "version": "3.7.12"
  },
  "papermill": {
   "default_parameters": {},
   "duration": 1280.876644,
   "end_time": "2023-12-24T09:25:24.701554",
   "environment_variables": {},
   "exception": null,
   "input_path": "__notebook__.ipynb",
   "output_path": "__notebook__.ipynb",
   "parameters": {},
   "start_time": "2023-12-24T09:04:03.824910",
   "version": "2.3.4"
  }
 },
 "nbformat": 4,
 "nbformat_minor": 5
}
