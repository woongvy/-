{
 "cells": [
  {
   "cell_type": "code",
   "execution_count": 1,
   "id": "5c9388d8",
   "metadata": {
    "_cell_guid": "b1076dfc-b9ad-4769-8c92-a6c4dae69d19",
    "_uuid": "8f2839f25d086af736a60e9eeb907d3b93b6e0e5",
    "execution": {
     "iopub.execute_input": "2023-12-24T13:28:15.848631Z",
     "iopub.status.busy": "2023-12-24T13:28:15.847854Z",
     "iopub.status.idle": "2023-12-24T13:28:28.409666Z",
     "shell.execute_reply": "2023-12-24T13:28:28.408166Z"
    },
    "papermill": {
     "duration": 12.569276,
     "end_time": "2023-12-24T13:28:28.412414",
     "exception": false,
     "start_time": "2023-12-24T13:28:15.843138",
     "status": "completed"
    },
    "tags": []
   },
   "outputs": [
    {
     "name": "stdout",
     "output_type": "stream",
     "text": [
      "Requirement already satisfied: polars in /opt/conda/lib/python3.10/site-packages (0.19.19)\r\n"
     ]
    }
   ],
   "source": [
    "!pip install polars"
   ]
  },
  {
   "cell_type": "code",
   "execution_count": 2,
   "id": "710cbb2b",
   "metadata": {
    "execution": {
     "iopub.execute_input": "2023-12-24T13:28:28.419714Z",
     "iopub.status.busy": "2023-12-24T13:28:28.419342Z",
     "iopub.status.idle": "2023-12-24T13:28:28.640419Z",
     "shell.execute_reply": "2023-12-24T13:28:28.639392Z"
    },
    "papermill": {
     "duration": 0.227632,
     "end_time": "2023-12-24T13:28:28.642991",
     "exception": false,
     "start_time": "2023-12-24T13:28:28.415359",
     "status": "completed"
    },
    "tags": []
   },
   "outputs": [],
   "source": [
    "import polars as pl\n",
    "paths = ['matrix-fac/submission.csv', \n",
    "         'w2vecT/submission.csv',\n",
    "        ]"
   ]
  },
  {
   "cell_type": "code",
   "execution_count": 3,
   "id": "83e550c3",
   "metadata": {
    "execution": {
     "iopub.execute_input": "2023-12-24T13:28:28.649963Z",
     "iopub.status.busy": "2023-12-24T13:28:28.649601Z",
     "iopub.status.idle": "2023-12-24T13:28:28.655806Z",
     "shell.execute_reply": "2023-12-24T13:28:28.654840Z"
    },
    "papermill": {
     "duration": 0.01225,
     "end_time": "2023-12-24T13:28:28.657953",
     "exception": false,
     "start_time": "2023-12-24T13:28:28.645703",
     "status": "completed"
    },
    "tags": []
   },
   "outputs": [],
   "source": [
    "def read_sub(path, weight=1): # by default let us assing the weight of 1 to predictions from each submission, this will be akin to a standard vote ensemble\n",
    "    '''a helper function for loading and preprocessing submissions'''\n",
    "    return (\n",
    "        pl.read_csv(path)\n",
    "            .with_column(pl.col('labels').str.split(by=' '))\n",
    "            .with_column(pl.lit(weight).alias('vote'))\n",
    "            .explode('labels')\n",
    "            .rename({'labels': 'aid'})\n",
    "            .with_column(pl.col('aid').cast(pl.UInt32)) # we are casting the `aids` to `Int32`! memory management is super important to ensure we don't run out of resources\n",
    "            .with_column(pl.col('vote').cast(pl.UInt8))\n",
    "    )"
   ]
  },
  {
   "cell_type": "code",
   "execution_count": null,
   "id": "7bd81c5f",
   "metadata": {
    "execution": {
     "iopub.execute_input": "2023-12-24T13:28:28.664538Z",
     "iopub.status.busy": "2023-12-24T13:28:28.664210Z",
     "iopub.status.idle": "2023-12-24T13:28:28.892947Z",
     "shell.execute_reply": "2023-12-24T13:28:28.891301Z"
    },
    "papermill": {
     "duration": 0.234349,
     "end_time": "2023-12-24T13:28:28.894873",
     "exception": true,
     "start_time": "2023-12-24T13:28:28.660524",
     "status": "failed"
    },
    "tags": []
   },
   "outputs": [],
   "source": [
    "subs = [read_sub(path) for path in paths]\n",
    "subs[0].head()"
   ]
  },
  {
   "cell_type": "code",
   "execution_count": null,
   "id": "c574fe26",
   "metadata": {
    "papermill": {
     "duration": null,
     "end_time": null,
     "exception": null,
     "start_time": null,
     "status": "pending"
    },
    "tags": []
   },
   "outputs": [],
   "source": [
    "subs = subs[0].join(subs[1], how='outer', on=['session_type', 'aid']).join(subs[2], how='outer', on=['session_type', 'aid'], suffix='_right2')\n",
    "subs.head()"
   ]
  },
  {
   "cell_type": "code",
   "execution_count": null,
   "id": "c390de1e",
   "metadata": {
    "papermill": {
     "duration": null,
     "end_time": null,
     "exception": null,
     "start_time": null,
     "status": "pending"
    },
    "tags": []
   },
   "outputs": [],
   "source": [
    "subs = (subs\n",
    "    .fill_null(0)\n",
    "    .with_column((pl.col('vote') + pl.col('vote_right') + pl.col('vote_right2')).alias('vote_sum'))\n",
    "    .drop(['vote', 'vote_right', 'vote_right2'])\n",
    "    .sort(by='vote_sum')\n",
    "    .reverse()\n",
    ")\n",
    "\n",
    "subs.head()"
   ]
  },
  {
   "cell_type": "code",
   "execution_count": null,
   "id": "581a0533",
   "metadata": {
    "papermill": {
     "duration": null,
     "end_time": null,
     "exception": null,
     "start_time": null,
     "status": "pending"
    },
    "tags": []
   },
   "outputs": [],
   "source": [
    "%%time\n",
    "preds = subs.groupby('session_type').agg([\n",
    "    pl.col('aid').head(20).alias('labels')\n",
    "])\n",
    "\n",
    "preds = preds.with_column(pl.col('labels').apply(lambda lst: ' '.join([str(aid) for aid in lst])))"
   ]
  },
  {
   "cell_type": "code",
   "execution_count": null,
   "id": "7887a300",
   "metadata": {
    "papermill": {
     "duration": null,
     "end_time": null,
     "exception": null,
     "start_time": null,
     "status": "pending"
    },
    "tags": []
   },
   "outputs": [],
   "source": [
    "preds.write_csv('submission.csv')"
   ]
  }
 ],
 "metadata": {
  "kaggle": {
   "accelerator": "none",
   "dataSources": [],
   "isGpuEnabled": false,
   "isInternetEnabled": true,
   "language": "python",
   "sourceType": "notebook"
  },
  "kernelspec": {
   "display_name": "Python 3",
   "language": "python",
   "name": "python3"
  },
  "language_info": {
   "codemirror_mode": {
    "name": "ipython",
    "version": 3
   },
   "file_extension": ".py",
   "mimetype": "text/x-python",
   "name": "python",
   "nbconvert_exporter": "python",
   "pygments_lexer": "ipython3",
   "version": "3.10.12"
  },
  "papermill": {
   "default_parameters": {},
   "duration": 16.47959,
   "end_time": "2023-12-24T13:28:29.317585",
   "environment_variables": {},
   "exception": true,
   "input_path": "__notebook__.ipynb",
   "output_path": "__notebook__.ipynb",
   "parameters": {},
   "start_time": "2023-12-24T13:28:12.837995",
   "version": "2.4.0"
  }
 },
 "nbformat": 4,
 "nbformat_minor": 5
}
